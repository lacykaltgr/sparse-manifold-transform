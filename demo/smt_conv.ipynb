{
 "cells": [
  {
   "cell_type": "code",
   "execution_count": 4,
   "outputs": [],
   "source": [
    "import sys\n",
    "sys.path.append(\"../\")\n",
    "\n",
    "import torch\n",
    "from torch import nn\n",
    "import torch.nn.functional as F\n",
    "import numpy as np"
   ],
   "metadata": {
    "collapsed": false
   }
  },
  {
   "cell_type": "code",
   "execution_count": 2,
   "outputs": [],
   "source": [
    "class Dictionary(nn.Module):\n",
    "    def __init__(self):\n",
    "        super(Dictionary, self).__init__()\n",
    "        self.conv1 = nn.Conv2d(1, 40,  kernel_size=3, stride=2, padding=1)\n",
    "        self.conv2 = nn.Conv2d(40, 40, kernel_size=3, stride=2, padding=1)\n",
    "\n",
    "    def forward(self, x):\n",
    "        x = F.relu(self.conv1(x))\n",
    "        x = F.relu(self.conv2(x))\n",
    "        return x\n",
    "\n",
    "\n",
    "class Projection(nn.Module):\n",
    "    def __init__(self):\n",
    "        super(Projection, self).__init__()\n",
    "        self.conv1 = nn.Conv2d(40, 4, kernel_size=3, stride=1, padding=1)\n",
    "\n",
    "    def forward(self, x):\n",
    "        # linear projection\n",
    "        x = self.conv1(x)\n",
    "        return x\n",
    "\n",
    "class Reconstruct(nn.Module):\n",
    "    def __init__(self):\n",
    "        super(Reconstruct, self).__init__()\n",
    "        self.conv1 = nn.Conv2d(4, 40, kernel_size=3, stride=1, padding=1)\n",
    "\n",
    "    def forward(self, x):\n",
    "        x = F.relu(self.conv1(x))\n",
    "        return x"
   ],
   "metadata": {
    "collapsed": false
   }
  },
  {
   "cell_type": "code",
   "execution_count": 25,
   "outputs": [],
   "source": [
    "downsampled = np.load(\"../data/downsampled.npy\")\n",
    "from smt.preprocess import normalize\n",
    "data = normalize(downsampled)"
   ],
   "metadata": {
    "collapsed": false
   }
  },
  {
   "cell_type": "code",
   "execution_count": 26,
   "outputs": [],
   "source": [
    "data = data[:, None, 60: 100, 60: 100]"
   ],
   "metadata": {
    "collapsed": false
   }
  },
  {
   "cell_type": "code",
   "execution_count": 27,
   "outputs": [
    {
     "data": {
      "text/plain": "(1000, 1, 40, 40)"
     },
     "execution_count": 27,
     "metadata": {},
     "output_type": "execute_result"
    }
   ],
   "source": [
    "data.shape"
   ],
   "metadata": {
    "collapsed": false
   }
  },
  {
   "cell_type": "code",
   "execution_count": 24,
   "outputs": [
    {
     "name": "stderr",
     "output_type": "stream",
     "text": [
      "/Users/laszlofreund/miniconda/envs/tensyflow/lib/python3.8/site-packages/pyrtools/tools/display.py:119: UserWarning: Ignoring dpi argument: with PyrFigure, we do not use the dpi argument for saving, use dpi_multiple instead (this is done to prevent aliasing)\n",
      "  warnings.warn(\"Ignoring dpi argument: with PyrFigure, we do not use the dpi argument\"\n"
     ]
    },
    {
     "data": {
      "text/plain": "<matplotlib.animation.FuncAnimation at 0x16dfbb670>"
     },
     "execution_count": 24,
     "metadata": {},
     "output_type": "execute_result"
    }
   ],
   "source": [
    "from smt.utility import animate\n",
    "animate(data, \"../data/animation40.gif\")"
   ],
   "metadata": {
    "collapsed": false
   }
  },
  {
   "cell_type": "code",
   "execution_count": null,
   "outputs": [],
   "source": [
    "dictionary = Dictionary()"
   ],
   "metadata": {
    "collapsed": false
   }
  }
 ],
 "metadata": {
  "kernelspec": {
   "display_name": "Python 3",
   "language": "python",
   "name": "python3"
  },
  "language_info": {
   "codemirror_mode": {
    "name": "ipython",
    "version": 2
   },
   "file_extension": ".py",
   "mimetype": "text/x-python",
   "name": "python",
   "nbconvert_exporter": "python",
   "pygments_lexer": "ipython2",
   "version": "2.7.6"
  }
 },
 "nbformat": 4,
 "nbformat_minor": 0
}
